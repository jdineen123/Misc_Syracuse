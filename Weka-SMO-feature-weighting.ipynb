{
 "cells": [
  {
   "cell_type": "markdown",
   "metadata": {},
   "source": [
    "# Weka SMO Feature Weighting"
   ]
  },
  {
   "cell_type": "code",
   "execution_count": 5,
   "metadata": {},
   "outputs": [
    {
     "name": "stdout",
     "output_type": "stream",
     "text": [
      "(1165, 2)\n"
     ]
    }
   ],
   "source": [
    "# the feature file is an edited copy of Weka's MultinomialNB output\n",
    "import pandas as pd\n",
    "weka_output = pd.read_csv('Weka-SMO-movie-review-weight.tsv', delimiter='\\t')\n",
    "print(weka_output.shape)\n",
    "weights = weka_output['weight'].values\n",
    "features = weka_output['token'].values\n"
   ]
  },
  {
   "cell_type": "code",
   "execution_count": 6,
   "metadata": {},
   "outputs": [
    {
     "name": "stdout",
     "output_type": "stream",
     "text": [
      "(1.0299, 'everything')\n",
      "(1.0387, 'entertaining')\n",
      "(1.0463, 'solid')\n",
      "(1.0498000000000001, 'easily')\n",
      "(1.0644, 'follows')\n",
      "(1.0690999999999999, 'm')\n",
      "(1.091, 'view')\n",
      "(1.1209, 'good')\n",
      "(1.1213, 'light')\n",
      "(1.1236999999999999, 'excellent')\n",
      "(1.1345000000000001, 'truman')\n",
      "(1.1520999999999999, 'perfectly')\n",
      "(1.1980999999999999, 'using')\n",
      "(1.2061999999999999, 'overall')\n",
      "(1.2675000000000001, 'seen')\n",
      "(1.2773000000000001, 'fun')\n",
      "(1.2783, 'back')\n",
      "(1.3142, 'terrific')\n",
      "(1.4153, 'flaws')\n",
      "(1.8324, 'memorable')\n"
     ]
    }
   ],
   "source": [
    "feature_ranks = sorted(zip(weights, features))\n",
    "\n",
    "# print the words with highest positive weight \n",
    "for i in range(len(feature_ranks)-20, len(feature_ranks)):\n",
    "    print(feature_ranks[i])"
   ]
  },
  {
   "cell_type": "code",
   "execution_count": 7,
   "metadata": {},
   "outputs": [
    {
     "name": "stdout",
     "output_type": "stream",
     "text": [
      "(-1.9298, 'worst')\n",
      "(-1.7566999999999999, 'unfortunately')\n",
      "(-1.589, 'boring')\n",
      "(-1.5658000000000001, 'bad')\n",
      "(-1.5651999999999999, 'ridiculous')\n",
      "(-1.5648, 'awful')\n",
      "(-1.4931000000000001, 'filmmakers')\n",
      "(-1.3724000000000001, 'looks')\n",
      "(-1.3459999999999999, 'mess')\n",
      "(-1.3187, 'lame')\n",
      "(-1.3013999999999999, 'script')\n",
      "(-1.2939000000000001, 'somewhere')\n",
      "(-1.2823, 'any')\n",
      "(-1.2474000000000001, 'material')\n",
      "(-1.2257, 'bland')\n",
      "(-1.2154, 'terrible')\n",
      "(-1.1767000000000001, 'only')\n",
      "(-1.145, 'falls')\n",
      "(-1.1359999999999999, '*')\n",
      "(-1.1291, 'plot')\n"
     ]
    }
   ],
   "source": [
    "# print the words with highest negative weight\n",
    "for i in range(0, 20):\n",
    "    print(feature_ranks[i])"
   ]
  },
  {
   "cell_type": "code",
   "execution_count": 33,
   "metadata": {
    "collapsed": true
   },
   "outputs": [
    {
     "name": "stdout",
     "output_type": "stream",
     "text": [
      "[(0.0024851215450355678, '*'), (0.0024980312673474397, 'funny'), (0.0025173958508152489, 'comedy'), (0.0025561250177508692, 'star'), (0.002562579878906806, 'takes'), (0.0025690347400627411, 'year'), (0.0025948541846864881, 'played'), (0.0026013090458424232, 'cast'), (0.0026271284904661693, 'fact'), (0.0027110416854933448, 'find'), (0.0027691354358967747, 'family'), (0.0027885000193645822, 'big'), (0.0028272291863002041, 'young'), (0.0028465937697680125, 'audience'), (0.0028465937697680125, 'john'), (0.0028853229367036301, 'real'), (0.0028853229367036301, 'things'), (0.0030337847432901728, 'action'), (0.0031306076606292211, 'years'), (0.0031370625217851558, 'role'), (0.0031564271052529672, 'made'), (0.003317798634151378, 'work'), (0.0033371632176191889, 'director'), (0.0033629826622429354, 'end'), (0.0035501736357650936, 'performance'), (0.0036082673861685243, 'back'), (0.0036211771084803954, 'makes'), (0.0036792708588838244, '--'), (0.0036921805811956977, 'don'), (0.0037502743315991267, 'plot'), (0.003879371554717858, 'doesn'), (0.0040601076670840792, 'movies'), (0.0040859271117078258, 'scenes'), (0.0041569305844231311, 'world'), (0.0041827500290468741, 'love'), (0.0046345903099624325, 'scene'), (0.0047701423942370976, 'man'), (0.0048088715611727204, 'great'), (0.0049960625346948794, 'make'), (0.0050864305908779918, 'people'), (0.005260711842088278, '-'), (0.0056673680949122793, 'films'), (0.0063515833774415512, 'characters'), (0.0064032222666890425, 'life'), (0.0068937917145402228, 'character'), (0.0075650972747576184, 'time'), (0.0076941944978763544, 'good'), (0.0079459340829578697, 'story'), (0.016091968861749781, 'movie'), (0.033436180787751256, 'film')]\n",
      "\n",
      "[(0.0026061990305512391, 'guy'), (0.0026205188054443801, 'actors'), (0.0026491583552306552, 'acting'), (0.0026634781301237962, 'point'), (0.0026706380175703648, 'plays'), (0.0026777979050169338, 'long'), (0.00271359734224978, 'role'), (0.0027422368920360586, 'minutes'), (0.002778036329268904, 'played'), (0.0027923561041620425, 'fact'), (0.0028353154288414586, 'great'), (0.0028711148660743053, 'things'), (0.0028997544158605839, 'real'), (0.002949873627986569, 'comedy'), (0.0030930713769179558, 'makes'), (0.0031789900262767863, 'funny'), (0.0032076295760630627, 'thing'), (0.0032147894635096343, 'love'), (0.0033651470998875893, 'audience'), (0.0034081064245670071, 'back'), (0.0034224261994601451, 'script'), (0.0035155047362655451, 'isn'), (0.0035226646237121141, 'life'), (0.0035369843986052547, 'work'), (0.0037804205717886109, 'end'), (0.0038520194462543047, 'big'), (0.0038520194462543047, 'made'), (0.003988057307739123, 'movies'), (0.0040668160696513862, '--'), (0.0042601330307087595, 'director'), (0.0042887725804950346, '-'), (0.0043102522428347416, 'man'), (0.0043388917926210184, 'action'), (0.0045178889787852545, 'scenes'), (0.0046109675155906566, 'films'), (0.0047183658272891942, 'people'), (0.0047183658272891942, 'scene'), (0.0048042844766480282, '*'), (0.0048114443640945963, 'doesn'), (0.0051049997494039389, 'don'), (0.0058639478187402895, 'make'), (0.0062505817408550317, 'characters'), (0.0063007009529810155, 'plot'), (0.0065369772387178105, 'story'), (0.0066372156629697756, 'character'), (0.0072959253080541577, 'bad'), (0.0079617948405851045, 'time'), (0.008069193152283648, 'good'), (0.02270400309307137, 'movie'), (0.0304510013102594, 'film')]\n"
     ]
    }
   ],
   "source": [
    "# if the model is to classify more than two categories, e.g. 20 categories in the 20newsgroup data\n",
    "# because SMO uses one-vs-one approach, it actually creates 190 binary classifiers\n",
    "# you will find feature weights for each binary classifier, started with lines like\n",
    "\n",
    "# \"Classifier for classes: alt.atheism, comp.graphics\"\n",
    "# \"Classifier for classes: alt.atheism, comp.os.ms-windows.misc\"\n",
    "# ...\n",
    "# \"Classifier for classes: talk.politics.misc, talk.religion.misc\"\n",
    "\n",
    "# You can sort individual list and check the most indicative features for each binary classifier"
   ]
  }
 ],
 "metadata": {
  "hide_input": false,
  "kernelspec": {
   "display_name": "Python 3",
   "language": "python",
   "name": "python3"
  },
  "language_info": {
   "codemirror_mode": {
    "name": "ipython",
    "version": 3
   },
   "file_extension": ".py",
   "mimetype": "text/x-python",
   "name": "python",
   "nbconvert_exporter": "python",
   "pygments_lexer": "ipython3",
   "version": "3.6.4"
  }
 },
 "nbformat": 4,
 "nbformat_minor": 2
}
