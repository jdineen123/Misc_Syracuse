{
 "cells": [
  {
   "cell_type": "markdown",
   "metadata": {},
   "source": [
    "# Python Regular Expression Examples"
   ]
  },
  {
   "cell_type": "markdown",
   "metadata": {},
   "source": [
    "These examples are adapted from the online book Python For Everyone Chapter 11, authored by C. R. Severance.\n",
    "https://www.py4e.com/html3/11-regex\n",
    "\n",
    "The sample data are some emails.\n",
    "https://www.py4e.com/code3/mbox-short.txt"
   ]
  },
  {
   "cell_type": "code",
   "execution_count": 2,
   "metadata": {
    "ExecuteTime": {
     "end_time": "2018-07-31T05:34:36.512318Z",
     "start_time": "2018-07-31T05:34:36.509327Z"
    }
   },
   "outputs": [],
   "source": [
    "# Import the regular expression package in python\n",
    "import re"
   ]
  },
  {
   "cell_type": "code",
   "execution_count": 3,
   "metadata": {
    "ExecuteTime": {
     "end_time": "2018-07-31T05:34:37.810390Z",
     "start_time": "2018-07-31T05:34:37.798422Z"
    }
   },
   "outputs": [
    {
     "name": "stdout",
     "output_type": "stream",
     "text": [
      "From: stephen.marquard@uct.ac.za\n",
      "From: louis@media.berkeley.edu\n",
      "From: zqian@umich.edu\n",
      "From: rjlowe@iupui.edu\n",
      "From: zqian@umich.edu\n",
      "From: rjlowe@iupui.edu\n",
      "From: cwen@iupui.edu\n",
      "From: cwen@iupui.edu\n",
      "From: gsilver@umich.edu\n",
      "From: gsilver@umich.edu\n",
      "From: zqian@umich.edu\n",
      "From: gsilver@umich.edu\n",
      "From: wagnermr@iupui.edu\n",
      "From: zqian@umich.edu\n",
      "From: antranig@caret.cam.ac.uk\n",
      "From: gopal.ramasammycook@gmail.com\n",
      "From: david.horwitz@uct.ac.za\n",
      "From: david.horwitz@uct.ac.za\n",
      "From: david.horwitz@uct.ac.za\n",
      "From: david.horwitz@uct.ac.za\n",
      "From: stephen.marquard@uct.ac.za\n",
      "From: louis@media.berkeley.edu\n",
      "From: louis@media.berkeley.edu\n",
      "From: ray@media.berkeley.edu\n",
      "From: cwen@iupui.edu\n",
      "From: cwen@iupui.edu\n",
      "From: cwen@iupui.edu\n"
     ]
    }
   ],
   "source": [
    "# Search for lines that contain 'From'\n",
    "hand = open('mbox-short.txt') # remember to change the filepath to the path on your computer\n",
    "for line in hand:\n",
    "    line = line.rstrip() #remove the white spaces etc at the end of the line\n",
    "    if re.search('From:', line):\n",
    "        print(line)"
   ]
  },
  {
   "cell_type": "code",
   "execution_count": 4,
   "metadata": {
    "ExecuteTime": {
     "end_time": "2018-07-31T05:35:23.955181Z",
     "start_time": "2018-07-31T05:35:23.950195Z"
    }
   },
   "outputs": [
    {
     "name": "stdout",
     "output_type": "stream",
     "text": [
      "line does not start with 'From:'\n"
     ]
    }
   ],
   "source": [
    "# Search for lines that start with 'From'\n",
    "line = \"edu From: rjlowe@iupui.edu\"\n",
    "if re.search('^From:', line):\n",
    "    print(\"line starts with 'From:'\")\n",
    "else:\n",
    "    print(\"line does not start with 'From:'\")"
   ]
  },
  {
   "cell_type": "code",
   "execution_count": 11,
   "metadata": {},
   "outputs": [
    {
     "name": "stdout",
     "output_type": "stream",
     "text": [
      "line starts with From and have an at sign\n"
     ]
    }
   ],
   "source": [
    "# Search for lines that start with From and have an at sign\n",
    "line = \"From: rjlowe@iupui.edu\"\n",
    "if re.search('^From:.+@', line): # \".\" can match any character, \"+\" means match at least one character, \"*\" means match zero to more chracters\n",
    "    print(\"line starts with From and have an at sign\")\n",
    "else:\n",
    "    print(\"line does not contain the pattern\")"
   ]
  },
  {
   "cell_type": "code",
   "execution_count": 13,
   "metadata": {},
   "outputs": [
    {
     "name": "stdout",
     "output_type": "stream",
     "text": [
      "['csev@umich.edu', 'cwen@iupui.edu']\n"
     ]
    }
   ],
   "source": [
    "# Extract data using regular expression\n",
    "# Extracting email addresses with a non-whitespace string before @ and another after @\n",
    "# In regular expression, the pattern is \\S+@\\S+\n",
    "# \"@2PM\" does not match with this regular expression because there is no string before @\n",
    "\n",
    "line = 'A message from csev@umich.edu to cwen@iupui.edu about meeting @2PM'\n",
    "items = re.findall('\\S+@\\S+', line) #\"\\S\" means a non-whitespace character\n",
    "print(items)"
   ]
  },
  {
   "cell_type": "code",
   "execution_count": 5,
   "metadata": {
    "ExecuteTime": {
     "end_time": "2018-07-31T05:36:09.249418Z",
     "start_time": "2018-07-31T05:36:09.245428Z"
    }
   },
   "outputs": [
    {
     "name": "stdout",
     "output_type": "stream",
     "text": [
      "['umich.edu', 'iupui.edu']\n"
     ]
    }
   ],
   "source": [
    "# Search and extract data using regular expression\n",
    "# If you are only interested in the string after @, but you need the entire pattern to find it,\n",
    "# you can add parentheses around the string using regular expression \\S+@(\\S+).\n",
    "# It will return the string after @\n",
    "line = 'A message from csev@umich.edu to cwen@iupui.edu about meeting @2PM'\n",
    "items = re.findall('\\S+@(\\S+)', line) #\"\\S\" means a non-whitespace character\n",
    "print(items)"
   ]
  },
  {
   "cell_type": "code",
   "execution_count": 10,
   "metadata": {
    "ExecuteTime": {
     "end_time": "2018-07-31T05:36:12.274477Z",
     "start_time": "2018-07-31T05:36:12.267495Z"
    }
   },
   "outputs": [
    {
     "name": "stdout",
     "output_type": "stream",
     "text": [
      "['123abc456DEF']\n",
      "['123', '456']\n",
      "['123abc', '456DEF']\n"
     ]
    }
   ],
   "source": [
    "# common regular expressions\n",
    "# '^' - beginning of line \n",
    "# '$' - end of line\n",
    "# '.' - any character\n",
    "# '\\d' - one digit number\n",
    "# '*' - zero or more occurrences\n",
    "# '+' - one or more occurrences\n",
    "# '\\S' - non-whitespace character\n",
    "# '[a-z]' - all lowercase letters\n",
    "# '[A-Z]' - all uppercase letters\n",
    "\n",
    "line = \"123abc456DEF\"\n",
    "\n",
    "# find the entire line\n",
    "items = re.findall('^.*$', line) \n",
    "print(items)\n",
    "\n",
    "# find all numbers\n",
    "items = re.findall('(\\d+)', line) \n",
    "print(items)\n",
    "\n",
    "# find all strings that begin with one or more digits and end with one or more letters\n",
    "items = re.findall('(\\d+[a-zA-Z]+)', line) \n",
    "print(items)\n"
   ]
  },
  {
   "cell_type": "markdown",
   "metadata": {},
   "source": [
    "## Exercise"
   ]
  },
  {
   "cell_type": "code",
   "execution_count": 27,
   "metadata": {
    "ExecuteTime": {
     "end_time": "2018-07-31T05:42:51.452471Z",
     "start_time": "2018-07-31T05:42:51.448481Z"
    }
   },
   "outputs": [
    {
     "name": "stdout",
     "output_type": "stream",
     "text": [
      "['123abc']\n"
     ]
    }
   ],
   "source": [
    "# find all strings that begin with one or more digits and end with one or more lowercase letters\n",
    "# the answer is '123abc'\n",
    "\n",
    "line = \"123abc456DEF\"\n",
    "\n",
    "# your code starts here\n",
    "items = re.findall('(^\\d+[a-z]+)', line)\n",
    "print(items)\n",
    "# your code ends here"
   ]
  },
  {
   "cell_type": "code",
   "execution_count": 29,
   "metadata": {
    "ExecuteTime": {
     "end_time": "2018-07-31T05:43:35.369643Z",
     "start_time": "2018-07-31T05:43:35.365653Z"
    }
   },
   "outputs": [
    {
     "name": "stdout",
     "output_type": "stream",
     "text": [
      "['123']\n"
     ]
    }
   ],
   "source": [
    "# find the digits at the beginning of the line\n",
    "# the answer is '123'\n",
    "\n",
    "line = \"123abc456DEF\"\n",
    "\n",
    "# your code starts here\n",
    "items = re.findall('(^\\d+)', line)\n",
    "print(items)\n",
    "# your code ends here\n"
   ]
  },
  {
   "cell_type": "code",
   "execution_count": 41,
   "metadata": {
    "ExecuteTime": {
     "end_time": "2018-07-31T05:46:23.912798Z",
     "start_time": "2018-07-31T05:46:23.908808Z"
    }
   },
   "outputs": [
    {
     "name": "stdout",
     "output_type": "stream",
     "text": [
      "456\n"
     ]
    }
   ],
   "source": [
    "# find the digits between letters\n",
    "# the answer is '456'\n",
    "\n",
    "line = \"123abc456DEF\"\n",
    "\n",
    "# your code starts here\n",
    "items = re.findall('(\\d+)', line)[1]\n",
    "print(items)\n",
    "# your code ends here\n"
   ]
  },
  {
   "cell_type": "code",
   "execution_count": 78,
   "metadata": {
    "ExecuteTime": {
     "end_time": "2018-07-31T06:04:21.293819Z",
     "start_time": "2018-07-31T06:04:21.285840Z"
    }
   },
   "outputs": [
    {
     "name": "stdout",
     "output_type": "stream",
     "text": [
      "ï»¿Thread:WordsPost: WordsAuthor:  Dennis Oh Posted Date: April 20, 2017 8:56 PMStatus:Published\n",
      "\n",
      "Sneakers, Tattoo, Watch, Boy\n",
      "\n",
      "\n",
      "\n",
      "Boy\n",
      "\n",
      "glasses\n",
      "\n",
      "short hair\n",
      "\n",
      "gray sweater\n",
      "\n",
      "\n",
      "hoodie girl gray navy\n",
      "\n",
      "\n",
      "Hahahahahaha???\n",
      "\n",
      "\n",
      "\n",
      "\n",
      "Wearing black, all black.\n",
      "\n",
      "\n",
      "- Black Sweater\n",
      "\n",
      "- Black Boots\n",
      "\n",
      "- Asian\n",
      "\n",
      "- ~ 5'4''\n",
      "\n",
      "- No glasses\n",
      "\n",
      "\n",
      "\n",
      "asian\n",
      "\n",
      "male\n",
      "\n",
      "black down jacket\n",
      "\n",
      "umbrella\n",
      "\n",
      "\n",
      "Li CHEN\n",
      "\n",
      "sleepy face\n",
      "\n",
      "casual style\n",
      "\n",
      "serious\n",
      "\n",
      "worried\n",
      "\n",
      "\n",
      "sweater\n",
      "\n",
      "jeans\n",
      "\n",
      "glasses\n",
      "\n",
      "ponytail\n",
      "\n",
      "female\n",
      "\n",
      "asian\n",
      "\n",
      "\n",
      "\n",
      "Swagless, tired, drowsy, fat, dumb\n",
      "\n",
      "\n",
      "Sleepy\n",
      "\n",
      "Black Grey Black\n",
      "\n",
      "Tired\n",
      "\n",
      "\n",
      "\n",
      "white, male, European, blue sweater, blonde\n",
      "\n",
      "\n",
      "\n",
      "beard blonde tattoo tall\n",
      "\n",
      "\n",
      "Female\n",
      "\n",
      "Long hair\n",
      "\n",
      "White cardigan\n",
      "\n",
      "Red T-shirt\n",
      "\n",
      "\n",
      "\n",
      "\n",
      "girl   ponytail  snowflake\n",
      "\n",
      "\n",
      "\n",
      "\n",
      "Select: All None\n",
      "Mark (Click to see options)\n",
      " OK\n"
     ]
    }
   ],
   "source": [
    "path = 'sampledata-textwrangler.txt'\n",
    "txt = open(path)\n",
    "\n",
    "empty = []\n",
    "for i in txt:\n",
    "    line = i.rstrip()\n",
    "    if not line.startswith('Thread' or 'ï»¿'):\n",
    "        if not line.startswith('Reply'):\n",
    "            empty.append(line)\n",
    "    \n",
    "for i in empty:\n",
    "    print(i)"
   ]
  }
 ],
 "metadata": {
  "hide_input": false,
  "kernelspec": {
   "display_name": "Python 3",
   "language": "python",
   "name": "python3"
  },
  "language_info": {
   "codemirror_mode": {
    "name": "ipython",
    "version": 3
   },
   "file_extension": ".py",
   "mimetype": "text/x-python",
   "name": "python",
   "nbconvert_exporter": "python",
   "pygments_lexer": "ipython3",
   "version": "3.6.4"
  }
 },
 "nbformat": 4,
 "nbformat_minor": 2
}
