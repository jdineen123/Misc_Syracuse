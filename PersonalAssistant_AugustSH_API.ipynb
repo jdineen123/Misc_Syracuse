{
 "cells": [
  {
   "cell_type": "code",
   "execution_count": 1,
   "metadata": {
    "ExecuteTime": {
     "end_time": "2018-04-06T22:37:22.908229Z",
     "start_time": "2018-04-06T22:37:20.715653Z"
    }
   },
   "outputs": [
    {
     "name": "stdout",
     "output_type": "stream",
     "text": [
      "Requirement already satisfied: py-august in c:\\users\\jdine\\documents\\anaconda3\\envs\\tensorflowlatest\\lib\\site-packages\n"
     ]
    }
   ],
   "source": [
    "!pip install py-august\n",
    "from august.api import Api \n",
    "from august.authenticator import Authenticator, AuthenticationState\n",
    "from august.api import API_GET_DOORBELLS_URL, Api, API_GET_LOCKS_URL, \\\n",
    "    API_GET_LOCK_STATUS_URL, API_LOCK_URL, API_UNLOCK_URL, API_GET_LOCK_URL, \\\n",
    "    API_GET_DOORBELL_URL\n",
    "\n",
    "from august.device import Device, DeviceDetail"
   ]
  },
  {
   "cell_type": "code",
   "execution_count": 3,
   "metadata": {
    "ExecuteTime": {
     "end_time": "2018-04-06T22:37:32.685684Z",
     "start_time": "2018-04-06T22:37:32.118860Z"
    }
   },
   "outputs": [
    {
     "data": {
      "text/plain": [
       "True"
      ]
     },
     "execution_count": 3,
     "metadata": {},
     "output_type": "execute_result"
    }
   ],
   "source": [
    "api = Api(timeout=20)\n",
    "authenticator = Authenticator(api, \"phone\", \"+14806036994\", \"Jake8579!\",\n",
    "                              access_token_cache_file=\"PATH_TO_ACCESS_TOKEN_CACHE_FILE\")\n",
    "\n",
    "authentication = authenticator.authenticate()\n",
    "state = authentication.state\n",
    "authenticator.send_verification_code()\n"
   ]
  },
  {
   "cell_type": "code",
   "execution_count": 4,
   "metadata": {
    "ExecuteTime": {
     "end_time": "2018-04-06T22:37:50.585883Z",
     "start_time": "2018-04-06T22:37:50.044572Z"
    }
   },
   "outputs": [],
   "source": [
    "validation_result = authenticator.validate_verification_code(680681)\n",
    "authentication = authenticator.authenticate()"
   ]
  },
  {
   "cell_type": "code",
   "execution_count": 5,
   "metadata": {
    "ExecuteTime": {
     "end_time": "2018-04-06T22:37:52.236984Z",
     "start_time": "2018-04-06T22:37:52.233976Z"
    }
   },
   "outputs": [
    {
     "data": {
      "text/plain": [
       "<august.authenticator.Authentication at 0x2bcb10566d8>"
      ]
     },
     "execution_count": 5,
     "metadata": {},
     "output_type": "execute_result"
    }
   ],
   "source": [
    "authentication"
   ]
  },
  {
   "cell_type": "code",
   "execution_count": 10,
   "metadata": {
    "ExecuteTime": {
     "end_time": "2018-04-06T22:40:14.472572Z",
     "start_time": "2018-04-06T22:40:14.466552Z"
    }
   },
   "outputs": [
    {
     "ename": "TypeError",
     "evalue": "__init__() missing 3 required positional arguments: 'device_id', 'device_name', and 'house_id'",
     "output_type": "error",
     "traceback": [
      "\u001b[1;31m---------------------------------------------------------------------------\u001b[0m",
      "\u001b[1;31mTypeError\u001b[0m                                 Traceback (most recent call last)",
      "\u001b[1;32m<ipython-input-10-41af1640ed59>\u001b[0m in \u001b[0;36m<module>\u001b[1;34m()\u001b[0m\n\u001b[0;32m      1\u001b[0m \u001b[1;32mfrom\u001b[0m \u001b[0maugust\u001b[0m\u001b[1;33m.\u001b[0m\u001b[0mdevice\u001b[0m \u001b[1;32mimport\u001b[0m \u001b[0mDeviceDetail\u001b[0m\u001b[1;33m\u001b[0m\u001b[0m\n\u001b[1;32m----> 2\u001b[1;33m \u001b[0mDevice\u001b[0m\u001b[1;33m(\u001b[0m\u001b[1;33m)\u001b[0m\u001b[1;33m\u001b[0m\u001b[0m\n\u001b[0m",
      "\u001b[1;31mTypeError\u001b[0m: __init__() missing 3 required positional arguments: 'device_id', 'device_name', and 'house_id'"
     ]
    }
   ],
   "source": [
    "from august.device import DeviceDetail\n",
    "Device()"
   ]
  }
 ],
 "metadata": {
  "kernelspec": {
   "display_name": "Python 3",
   "language": "python",
   "name": "python3"
  },
  "language_info": {
   "codemirror_mode": {
    "name": "ipython",
    "version": 3
   },
   "file_extension": ".py",
   "mimetype": "text/x-python",
   "name": "python",
   "nbconvert_exporter": "python",
   "pygments_lexer": "ipython3",
   "version": "3.6.4"
  }
 },
 "nbformat": 4,
 "nbformat_minor": 2
}
