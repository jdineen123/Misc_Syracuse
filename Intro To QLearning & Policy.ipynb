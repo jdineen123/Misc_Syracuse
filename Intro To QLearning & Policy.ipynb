{
 "cells": [
  {
   "cell_type": "code",
   "execution_count": 4,
   "metadata": {
    "ExecuteTime": {
     "end_time": "2018-04-16T21:30:53.306242Z",
     "start_time": "2018-04-16T21:30:32.305401Z"
    }
   },
   "outputs": [
    {
     "name": "stdout",
     "output_type": "stream",
     "text": [
      "Requirement already up-to-date: gym[all] in c:\\users\\jdine\\documents\\anaconda3\\envs\\tensorflowlatest\\lib\\site-packages\n",
      "Requirement already up-to-date: numpy>=1.10.4 in c:\\users\\jdine\\documents\\anaconda3\\envs\\tensorflowlatest\\lib\\site-packages (from gym[all])\n",
      "Collecting pyglet>=1.2.0 (from gym[all])\n",
      "  Downloading https://files.pythonhosted.org/packages/1c/fc/dad5eaaab68f0c21e2f906a94ddb98175662cc5a654eee404d59554ce0fa/pyglet-1.3.2-py2.py3-none-any.whl (1.0MB)\n",
      "Requirement already up-to-date: six in c:\\users\\jdine\\documents\\anaconda3\\envs\\tensorflowlatest\\lib\\site-packages (from gym[all])\n",
      "Requirement already up-to-date: requests>=2.0 in c:\\users\\jdine\\documents\\anaconda3\\envs\\tensorflowlatest\\lib\\site-packages (from gym[all])\n",
      "Requirement already up-to-date: imageio; extra == \"all\" in c:\\users\\jdine\\documents\\anaconda3\\envs\\tensorflowlatest\\lib\\site-packages (from gym[all])\n",
      "Collecting Box2D-kengz; extra == \"all\" (from gym[all])\n",
      "  Downloading https://files.pythonhosted.org/packages/81/20/51d6c0c87f7642efb709c518fb0ca8e5eab068259588552c41da5926ae27/Box2D-kengz-2.3.3.tar.gz (425kB)\n",
      "Collecting Pillow; extra == \"all\" (from gym[all])\n",
      "  Downloading https://files.pythonhosted.org/packages/a4/86/283719dac6309cf483452abb09759be9b2c0974435ed608dc67949127e13/Pillow-5.1.0-cp36-cp36m-win_amd64.whl (1.6MB)\n",
      "Requirement already up-to-date: PyOpenGL; extra == \"all\" in c:\\users\\jdine\\documents\\anaconda3\\envs\\tensorflowlatest\\lib\\site-packages (from gym[all])\n",
      "Collecting mujoco-py>=1.50; extra == \"all\" (from gym[all])\n",
      "  Downloading https://files.pythonhosted.org/packages/b7/9b/80d649f4a6b80b867f89830e0565ea766f3af32100d8140a22b40e8143ee/mujoco-py-1.50.1.55.tar.gz (5.8MB)\n",
      "Collecting atari-py>=0.1.1; extra == \"all\" (from gym[all])\n",
      "  Downloading https://files.pythonhosted.org/packages/8b/38/3c6716ac9031a686cc3228f3855e48c08a40e4d7c490dd4c21c65b465205/atari-py-0.1.1.tar.gz (760kB)\n",
      "Requirement already up-to-date: future in c:\\users\\jdine\\documents\\anaconda3\\envs\\tensorflowlatest\\lib\\site-packages (from pyglet>=1.2.0->gym[all])\n",
      "Requirement already up-to-date: chardet<3.1.0,>=3.0.2 in c:\\users\\jdine\\documents\\anaconda3\\envs\\tensorflowlatest\\lib\\site-packages (from requests>=2.0->gym[all])\n",
      "Requirement already up-to-date: idna<2.7,>=2.5 in c:\\users\\jdine\\documents\\anaconda3\\envs\\tensorflowlatest\\lib\\site-packages (from requests>=2.0->gym[all])\n",
      "Requirement already up-to-date: urllib3<1.23,>=1.21.1 in c:\\users\\jdine\\documents\\anaconda3\\envs\\tensorflowlatest\\lib\\site-packages (from requests>=2.0->gym[all])\n",
      "Requirement already up-to-date: certifi>=2017.4.17 in c:\\users\\jdine\\documents\\anaconda3\\envs\\tensorflowlatest\\lib\\site-packages (from requests>=2.0->gym[all])\n",
      "Collecting glfw>=1.4.0 (from mujoco-py>=1.50; extra == \"all\"->gym[all])\n",
      "  Downloading https://files.pythonhosted.org/packages/9e/e8/9f925cf388ee9f1a0bbd941477aa61cf24176c4067f44543a3d239ef4929/glfw-1.6.0-py2.py3-none-win_amd64.whl (55kB)\n",
      "Collecting Cython>=0.27.2 (from mujoco-py>=1.50; extra == \"all\"->gym[all])\n",
      "  Downloading https://files.pythonhosted.org/packages/86/2e/fee3cd9e5146a6912ed73e43ed43517d0c0961386cbcce1e8147d11f73e5/Cython-0.28.2-cp36-cp36m-win_amd64.whl (2.5MB)\n",
      "Requirement already up-to-date: cffi>=1.10 in c:\\users\\jdine\\documents\\anaconda3\\envs\\tensorflowlatest\\lib\\site-packages (from mujoco-py>=1.50; extra == \"all\"->gym[all])\n",
      "Requirement already up-to-date: pycparser in c:\\users\\jdine\\documents\\anaconda3\\envs\\tensorflowlatest\\lib\\site-packages (from cffi>=1.10->mujoco-py>=1.50; extra == \"all\"->gym[all])\n",
      "Building wheels for collected packages: Box2D-kengz, mujoco-py, atari-py\n",
      "  Running setup.py bdist_wheel for Box2D-kengz: started\n",
      "  Running setup.py bdist_wheel for Box2D-kengz: finished with status 'error'\n",
      "  Complete output from command c:\\users\\jdine\\documents\\anaconda3\\envs\\tensorflowlatest\\python.exe -u -c \"import setuptools, tokenize;__file__='C:\\\\Users\\\\jdine\\\\AppData\\\\Local\\\\Temp\\\\pip-build-_twpcgge\\\\Box2D-kengz\\\\setup.py';f=getattr(tokenize, 'open', open)(__file__);code=f.read().replace('\\r\\n', '\\n');f.close();exec(compile(code, __file__, 'exec'))\" bdist_wheel -d C:\\Users\\jdine\\AppData\\Local\\Temp\\tmp35qs2o8fpip-wheel- --python-tag cp36:\n",
      "  Using setuptools (version 39.0.1).\n",
      "  running bdist_wheel\n",
      "  running build\n",
      "  running build_py\n",
      "  creating build\n",
      "  creating build\\lib.win-amd64-3.6\n",
      "  creating build\\lib.win-amd64-3.6\\Box2D\n",
      "  copying library\\Box2D\\Box2D.py -> build\\lib.win-amd64-3.6\\Box2D\n",
      "  copying library\\Box2D\\__init__.py -> build\\lib.win-amd64-3.6\\Box2D\n",
      "  creating build\\lib.win-amd64-3.6\\Box2D\\b2\n",
      "  copying library\\Box2D\\b2\\__init__.py -> build\\lib.win-amd64-3.6\\Box2D\\b2\n",
      "  running build_ext\n",
      "  building 'Box2D._Box2D' extension\n",
      "  swigging Box2D\\Box2D.i to Box2D\\Box2D_wrap.cpp\n",
      "  swig.exe -python -c++ -IBox2D -small -O -includeall -ignoremissing -w201 -globals b2Globals -outdir library\\Box2D -keyword -w511 -D_SWIG_KWARGS -o Box2D\\Box2D_wrap.cpp Box2D\\Box2D.i\n",
      "  error: command 'swig.exe' failed: No such file or directory\n",
      "  \n",
      "  ----------------------------------------\n",
      "  Running setup.py clean for Box2D-kengz\n",
      "  Running setup.py bdist_wheel for mujoco-py: started\n",
      "  Running setup.py bdist_wheel for mujoco-py: finished with status 'done'\n",
      "  Stored in directory: C:\\Users\\jdine\\AppData\\Local\\pip\\Cache\\wheels\\43\\b6\\94\\102f6de321addd5ae97a9eb5f27f1687fb3d0769a208016fdd\n",
      "  Running setup.py bdist_wheel for atari-py: started\n",
      "  Running setup.py bdist_wheel for atari-py: finished with status 'error'\n",
      "  Complete output from command c:\\users\\jdine\\documents\\anaconda3\\envs\\tensorflowlatest\\python.exe -u -c \"import setuptools, tokenize;__file__='C:\\\\Users\\\\jdine\\\\AppData\\\\Local\\\\Temp\\\\pip-build-_twpcgge\\\\atari-py\\\\setup.py';f=getattr(tokenize, 'open', open)(__file__);code=f.read().replace('\\r\\n', '\\n');f.close();exec(compile(code, __file__, 'exec'))\" bdist_wheel -d C:\\Users\\jdine\\AppData\\Local\\Temp\\tmpnv2dvwkwpip-wheel- --python-tag cp36:\n",
      "  running bdist_wheel\n",
      "  running build\n",
      "  Unable to execute 'make build -C atari_py/ale_interface -j 11'. HINT: are you sure `make` is installed?\n",
      "  error: [WinError 2] The system cannot find the file specified\n",
      "  \n",
      "  ----------------------------------------\n",
      "  Running setup.py clean for atari-py\n",
      "Successfully built mujoco-py\n",
      "Failed to build Box2D-kengz atari-py\n",
      "Installing collected packages: pyglet, Box2D-kengz, Pillow, glfw, Cython, mujoco-py, atari-py\n",
      "  Found existing installation: pyglet 1.2.4\n",
      "    Uninstalling pyglet-1.2.4:\n",
      "      Successfully uninstalled pyglet-1.2.4\n",
      "  Running setup.py install for Box2D-kengz: started\n",
      "    Running setup.py install for Box2D-kengz: finished with status 'error'\n",
      "    Complete output from command c:\\users\\jdine\\documents\\anaconda3\\envs\\tensorflowlatest\\python.exe -u -c \"import setuptools, tokenize;__file__='C:\\\\Users\\\\jdine\\\\AppData\\\\Local\\\\Temp\\\\pip-build-_twpcgge\\\\Box2D-kengz\\\\setup.py';f=getattr(tokenize, 'open', open)(__file__);code=f.read().replace('\\r\\n', '\\n');f.close();exec(compile(code, __file__, 'exec'))\" install --record C:\\Users\\jdine\\AppData\\Local\\Temp\\pip-eh7_fngi-record\\install-record.txt --single-version-externally-managed --compile:\n",
      "    Using setuptools (version 39.0.1).\n",
      "    running install\n",
      "    running build\n",
      "    running build_py\n",
      "    creating build\n",
      "    creating build\\lib.win-amd64-3.6\n",
      "    creating build\\lib.win-amd64-3.6\\Box2D\n",
      "    copying library\\Box2D\\Box2D.py -> build\\lib.win-amd64-3.6\\Box2D\n",
      "    copying library\\Box2D\\__init__.py -> build\\lib.win-amd64-3.6\\Box2D\n",
      "    creating build\\lib.win-amd64-3.6\\Box2D\\b2\n",
      "    copying library\\Box2D\\b2\\__init__.py -> build\\lib.win-amd64-3.6\\Box2D\\b2\n",
      "    running build_ext\n",
      "    building 'Box2D._Box2D' extension\n",
      "    swigging Box2D\\Box2D.i to Box2D\\Box2D_wrap.cpp\n",
      "    swig.exe -python -c++ -IBox2D -small -O -includeall -ignoremissing -w201 -globals b2Globals -outdir library\\Box2D -keyword -w511 -D_SWIG_KWARGS -o Box2D\\Box2D_wrap.cpp Box2D\\Box2D.i\n",
      "    error: command 'swig.exe' failed: No such file or directory\n",
      "    \n",
      "    ----------------------------------------\n"
     ]
    },
    {
     "name": "stderr",
     "output_type": "stream",
     "text": [
      "Cache entry deserialization failed, entry ignored\n",
      "Cache entry deserialization failed, entry ignored\n",
      "  Cache entry deserialization failed, entry ignored\n",
      "  Cache entry deserialization failed, entry ignored\n",
      "  Failed building wheel for Box2D-kengz\n",
      "  Failed building wheel for atari-py\n",
      "Command \"c:\\users\\jdine\\documents\\anaconda3\\envs\\tensorflowlatest\\python.exe -u -c \"import setuptools, tokenize;__file__='C:\\\\Users\\\\jdine\\\\AppData\\\\Local\\\\Temp\\\\pip-build-_twpcgge\\\\Box2D-kengz\\\\setup.py';f=getattr(tokenize, 'open', open)(__file__);code=f.read().replace('\\r\\n', '\\n');f.close();exec(compile(code, __file__, 'exec'))\" install --record C:\\Users\\jdine\\AppData\\Local\\Temp\\pip-eh7_fngi-record\\install-record.txt --single-version-externally-managed --compile\" failed with error code 1 in C:\\Users\\jdine\\AppData\\Local\\Temp\\pip-build-_twpcgge\\Box2D-kengz\\\n"
     ]
    },
    {
     "name": "stdout",
     "output_type": "stream",
     "text": [
      "Collecting pyglet==1.2.4\n",
      "  Downloading https://files.pythonhosted.org/packages/68/c3/300c6f92b21886b0fe42c13f3a39a06c6cb90c9fbb1b71da85fe59091a7d/pyglet-1.2.4-py3-none-any.whl (964kB)\n",
      "Installing collected packages: pyglet\n",
      "  Found existing installation: pyglet 1.3.2\n",
      "    Uninstalling pyglet-1.3.2:\n",
      "      Successfully uninstalled pyglet-1.3.2\n",
      "Successfully installed pyglet-1.2.4\n",
      "Requirement already satisfied: gym[atari] in c:\\users\\jdine\\documents\\anaconda3\\envs\\tensorflowlatest\\lib\\site-packages\n",
      "Requirement already satisfied: pyglet>=1.2.0 in c:\\users\\jdine\\documents\\anaconda3\\envs\\tensorflowlatest\\lib\\site-packages (from gym[atari])\n",
      "Requirement already satisfied: six in c:\\users\\jdine\\documents\\anaconda3\\envs\\tensorflowlatest\\lib\\site-packages (from gym[atari])\n",
      "Requirement already satisfied: requests>=2.0 in c:\\users\\jdine\\documents\\anaconda3\\envs\\tensorflowlatest\\lib\\site-packages (from gym[atari])\n",
      "Requirement already satisfied: numpy>=1.10.4 in c:\\users\\jdine\\documents\\anaconda3\\envs\\tensorflowlatest\\lib\\site-packages (from gym[atari])\n",
      "Requirement already satisfied: PyOpenGL; extra == \"atari\" in c:\\users\\jdine\\documents\\anaconda3\\envs\\tensorflowlatest\\lib\\site-packages (from gym[atari])\n",
      "Collecting atari-py>=0.1.1; extra == \"atari\" (from gym[atari])\n",
      "  Downloading https://files.pythonhosted.org/packages/8b/38/3c6716ac9031a686cc3228f3855e48c08a40e4d7c490dd4c21c65b465205/atari-py-0.1.1.tar.gz (760kB)\n",
      "Requirement already satisfied: Pillow; extra == \"atari\" in c:\\users\\jdine\\documents\\anaconda3\\envs\\tensorflowlatest\\lib\\site-packages (from gym[atari])\n",
      "Requirement already satisfied: chardet<3.1.0,>=3.0.2 in c:\\users\\jdine\\documents\\anaconda3\\envs\\tensorflowlatest\\lib\\site-packages (from requests>=2.0->gym[atari])\n",
      "Requirement already satisfied: idna<2.7,>=2.5 in c:\\users\\jdine\\documents\\anaconda3\\envs\\tensorflowlatest\\lib\\site-packages (from requests>=2.0->gym[atari])\n",
      "Requirement already satisfied: urllib3<1.23,>=1.21.1 in c:\\users\\jdine\\documents\\anaconda3\\envs\\tensorflowlatest\\lib\\site-packages (from requests>=2.0->gym[atari])\n",
      "Requirement already satisfied: certifi>=2017.4.17 in c:\\users\\jdine\\documents\\anaconda3\\envs\\tensorflowlatest\\lib\\site-packages (from requests>=2.0->gym[atari])\n",
      "Building wheels for collected packages: atari-py\n",
      "  Running setup.py bdist_wheel for atari-py: started\n",
      "  Running setup.py bdist_wheel for atari-py: finished with status 'error'\n",
      "  Complete output from command c:\\users\\jdine\\documents\\anaconda3\\envs\\tensorflowlatest\\python.exe -u -c \"import setuptools, tokenize;__file__='C:\\\\Users\\\\jdine\\\\AppData\\\\Local\\\\Temp\\\\pip-build-hpgces9w\\\\atari-py\\\\setup.py';f=getattr(tokenize, 'open', open)(__file__);code=f.read().replace('\\r\\n', '\\n');f.close();exec(compile(code, __file__, 'exec'))\" bdist_wheel -d C:\\Users\\jdine\\AppData\\Local\\Temp\\tmp9anyyr54pip-wheel- --python-tag cp36:\n",
      "  running bdist_wheel\n",
      "  running build\n",
      "  Unable to execute 'make build -C atari_py/ale_interface -j 11'. HINT: are you sure `make` is installed?\n",
      "  error: [WinError 2] The system cannot find the file specified\n",
      "  \n",
      "  ----------------------------------------\n",
      "  Running setup.py clean for atari-py\n",
      "Failed to build atari-py\n",
      "Installing collected packages: atari-py\n",
      "  Running setup.py install for atari-py: started\n",
      "    Running setup.py install for atari-py: finished with status 'error'\n",
      "    Complete output from command c:\\users\\jdine\\documents\\anaconda3\\envs\\tensorflowlatest\\python.exe -u -c \"import setuptools, tokenize;__file__='C:\\\\Users\\\\jdine\\\\AppData\\\\Local\\\\Temp\\\\pip-build-hpgces9w\\\\atari-py\\\\setup.py';f=getattr(tokenize, 'open', open)(__file__);code=f.read().replace('\\r\\n', '\\n');f.close();exec(compile(code, __file__, 'exec'))\" install --record C:\\Users\\jdine\\AppData\\Local\\Temp\\pip-oop1oecw-record\\install-record.txt --single-version-externally-managed --compile:\n",
      "    running install\n",
      "    running build\n",
      "    Unable to execute 'make build -C atari_py/ale_interface -j 11'. HINT: are you sure `make` is installed?\n",
      "    error: [WinError 2] The system cannot find the file specified\n",
      "    \n",
      "    ----------------------------------------\n"
     ]
    },
    {
     "name": "stderr",
     "output_type": "stream",
     "text": [
      "  Failed building wheel for atari-py\n",
      "Command \"c:\\users\\jdine\\documents\\anaconda3\\envs\\tensorflowlatest\\python.exe -u -c \"import setuptools, tokenize;__file__='C:\\\\Users\\\\jdine\\\\AppData\\\\Local\\\\Temp\\\\pip-build-hpgces9w\\\\atari-py\\\\setup.py';f=getattr(tokenize, 'open', open)(__file__);code=f.read().replace('\\r\\n', '\\n');f.close();exec(compile(code, __file__, 'exec'))\" install --record C:\\Users\\jdine\\AppData\\Local\\Temp\\pip-oop1oecw-record\\install-record.txt --single-version-externally-managed --compile\" failed with error code 1 in C:\\Users\\jdine\\AppData\\Local\\Temp\\pip-build-hpgces9w\\atari-py\\\n"
     ]
    },
    {
     "ename": "DependencyNotInstalled",
     "evalue": "No module named 'atari_py'. (HINT: you can install Atari dependencies by running 'pip install gym[atari]'.)",
     "output_type": "error",
     "traceback": [
      "\u001b[1;31m---------------------------------------------------------------------------\u001b[0m",
      "\u001b[1;31mModuleNotFoundError\u001b[0m                       Traceback (most recent call last)",
      "\u001b[1;32m~\\Documents\\Anaconda3\\envs\\tensorflowlatest\\lib\\site-packages\\gym\\envs\\atari\\atari_env.py\u001b[0m in \u001b[0;36m<module>\u001b[1;34m()\u001b[0m\n\u001b[0;32m      8\u001b[0m \u001b[1;32mtry\u001b[0m\u001b[1;33m:\u001b[0m\u001b[1;33m\u001b[0m\u001b[0m\n\u001b[1;32m----> 9\u001b[1;33m     \u001b[1;32mimport\u001b[0m \u001b[0matari_py\u001b[0m\u001b[1;33m\u001b[0m\u001b[0m\n\u001b[0m\u001b[0;32m     10\u001b[0m \u001b[1;32mexcept\u001b[0m \u001b[0mImportError\u001b[0m \u001b[1;32mas\u001b[0m \u001b[0me\u001b[0m\u001b[1;33m:\u001b[0m\u001b[1;33m\u001b[0m\u001b[0m\n",
      "\u001b[1;31mModuleNotFoundError\u001b[0m: No module named 'atari_py'",
      "\nDuring handling of the above exception, another exception occurred:\n",
      "\u001b[1;31mDependencyNotInstalled\u001b[0m                    Traceback (most recent call last)",
      "\u001b[1;32m<ipython-input-4-16a6a67fb432>\u001b[0m in \u001b[0;36m<module>\u001b[1;34m()\u001b[0m\n\u001b[0;32m      3\u001b[0m \u001b[0mget_ipython\u001b[0m\u001b[1;33m(\u001b[0m\u001b[1;33m)\u001b[0m\u001b[1;33m.\u001b[0m\u001b[0msystem\u001b[0m\u001b[1;33m(\u001b[0m\u001b[1;34m'pip install gym[atari]'\u001b[0m\u001b[1;33m)\u001b[0m\u001b[1;33m\u001b[0m\u001b[0m\n\u001b[0;32m      4\u001b[0m \u001b[1;32mimport\u001b[0m \u001b[0mgym\u001b[0m\u001b[1;33m\u001b[0m\u001b[0m\n\u001b[1;32m----> 5\u001b[1;33m \u001b[0menv\u001b[0m \u001b[1;33m=\u001b[0m \u001b[0mgym\u001b[0m\u001b[1;33m.\u001b[0m\u001b[0mmake\u001b[0m\u001b[1;33m(\u001b[0m\u001b[1;34m\"MsPacman-v0\"\u001b[0m\u001b[1;33m)\u001b[0m\u001b[1;33m\u001b[0m\u001b[0m\n\u001b[0m",
      "\u001b[1;32m~\\Documents\\Anaconda3\\envs\\tensorflowlatest\\lib\\site-packages\\gym\\envs\\registration.py\u001b[0m in \u001b[0;36mmake\u001b[1;34m(id)\u001b[0m\n\u001b[0;32m    165\u001b[0m \u001b[1;33m\u001b[0m\u001b[0m\n\u001b[0;32m    166\u001b[0m \u001b[1;32mdef\u001b[0m \u001b[0mmake\u001b[0m\u001b[1;33m(\u001b[0m\u001b[0mid\u001b[0m\u001b[1;33m)\u001b[0m\u001b[1;33m:\u001b[0m\u001b[1;33m\u001b[0m\u001b[0m\n\u001b[1;32m--> 167\u001b[1;33m     \u001b[1;32mreturn\u001b[0m \u001b[0mregistry\u001b[0m\u001b[1;33m.\u001b[0m\u001b[0mmake\u001b[0m\u001b[1;33m(\u001b[0m\u001b[0mid\u001b[0m\u001b[1;33m)\u001b[0m\u001b[1;33m\u001b[0m\u001b[0m\n\u001b[0m\u001b[0;32m    168\u001b[0m \u001b[1;33m\u001b[0m\u001b[0m\n\u001b[0;32m    169\u001b[0m \u001b[1;32mdef\u001b[0m \u001b[0mspec\u001b[0m\u001b[1;33m(\u001b[0m\u001b[0mid\u001b[0m\u001b[1;33m)\u001b[0m\u001b[1;33m:\u001b[0m\u001b[1;33m\u001b[0m\u001b[0m\n",
      "\u001b[1;32m~\\Documents\\Anaconda3\\envs\\tensorflowlatest\\lib\\site-packages\\gym\\envs\\registration.py\u001b[0m in \u001b[0;36mmake\u001b[1;34m(self, id)\u001b[0m\n\u001b[0;32m    117\u001b[0m         \u001b[0mlogger\u001b[0m\u001b[1;33m.\u001b[0m\u001b[0minfo\u001b[0m\u001b[1;33m(\u001b[0m\u001b[1;34m'Making new env: %s'\u001b[0m\u001b[1;33m,\u001b[0m \u001b[0mid\u001b[0m\u001b[1;33m)\u001b[0m\u001b[1;33m\u001b[0m\u001b[0m\n\u001b[0;32m    118\u001b[0m         \u001b[0mspec\u001b[0m \u001b[1;33m=\u001b[0m \u001b[0mself\u001b[0m\u001b[1;33m.\u001b[0m\u001b[0mspec\u001b[0m\u001b[1;33m(\u001b[0m\u001b[0mid\u001b[0m\u001b[1;33m)\u001b[0m\u001b[1;33m\u001b[0m\u001b[0m\n\u001b[1;32m--> 119\u001b[1;33m         \u001b[0menv\u001b[0m \u001b[1;33m=\u001b[0m \u001b[0mspec\u001b[0m\u001b[1;33m.\u001b[0m\u001b[0mmake\u001b[0m\u001b[1;33m(\u001b[0m\u001b[1;33m)\u001b[0m\u001b[1;33m\u001b[0m\u001b[0m\n\u001b[0m\u001b[0;32m    120\u001b[0m         \u001b[1;31m# We used to have people override _reset/_step rather than\u001b[0m\u001b[1;33m\u001b[0m\u001b[1;33m\u001b[0m\u001b[0m\n\u001b[0;32m    121\u001b[0m         \u001b[1;31m# reset/step. Set _gym_disable_underscore_compat = True on\u001b[0m\u001b[1;33m\u001b[0m\u001b[1;33m\u001b[0m\u001b[0m\n",
      "\u001b[1;32m~\\Documents\\Anaconda3\\envs\\tensorflowlatest\\lib\\site-packages\\gym\\envs\\registration.py\u001b[0m in \u001b[0;36mmake\u001b[1;34m(self)\u001b[0m\n\u001b[0;32m     83\u001b[0m             \u001b[0menv\u001b[0m \u001b[1;33m=\u001b[0m \u001b[0mself\u001b[0m\u001b[1;33m.\u001b[0m\u001b[0m_entry_point\u001b[0m\u001b[1;33m(\u001b[0m\u001b[1;33m)\u001b[0m\u001b[1;33m\u001b[0m\u001b[0m\n\u001b[0;32m     84\u001b[0m         \u001b[1;32melse\u001b[0m\u001b[1;33m:\u001b[0m\u001b[1;33m\u001b[0m\u001b[0m\n\u001b[1;32m---> 85\u001b[1;33m             \u001b[0mcls\u001b[0m \u001b[1;33m=\u001b[0m \u001b[0mload\u001b[0m\u001b[1;33m(\u001b[0m\u001b[0mself\u001b[0m\u001b[1;33m.\u001b[0m\u001b[0m_entry_point\u001b[0m\u001b[1;33m)\u001b[0m\u001b[1;33m\u001b[0m\u001b[0m\n\u001b[0m\u001b[0;32m     86\u001b[0m             \u001b[0menv\u001b[0m \u001b[1;33m=\u001b[0m \u001b[0mcls\u001b[0m\u001b[1;33m(\u001b[0m\u001b[1;33m**\u001b[0m\u001b[0mself\u001b[0m\u001b[1;33m.\u001b[0m\u001b[0m_kwargs\u001b[0m\u001b[1;33m)\u001b[0m\u001b[1;33m\u001b[0m\u001b[0m\n\u001b[0;32m     87\u001b[0m \u001b[1;33m\u001b[0m\u001b[0m\n",
      "\u001b[1;32m~\\Documents\\Anaconda3\\envs\\tensorflowlatest\\lib\\site-packages\\gym\\envs\\registration.py\u001b[0m in \u001b[0;36mload\u001b[1;34m(name)\u001b[0m\n\u001b[0;32m     12\u001b[0m \u001b[1;32mdef\u001b[0m \u001b[0mload\u001b[0m\u001b[1;33m(\u001b[0m\u001b[0mname\u001b[0m\u001b[1;33m)\u001b[0m\u001b[1;33m:\u001b[0m\u001b[1;33m\u001b[0m\u001b[0m\n\u001b[0;32m     13\u001b[0m     \u001b[0mentry_point\u001b[0m \u001b[1;33m=\u001b[0m \u001b[0mpkg_resources\u001b[0m\u001b[1;33m.\u001b[0m\u001b[0mEntryPoint\u001b[0m\u001b[1;33m.\u001b[0m\u001b[0mparse\u001b[0m\u001b[1;33m(\u001b[0m\u001b[1;34m'x={}'\u001b[0m\u001b[1;33m.\u001b[0m\u001b[0mformat\u001b[0m\u001b[1;33m(\u001b[0m\u001b[0mname\u001b[0m\u001b[1;33m)\u001b[0m\u001b[1;33m)\u001b[0m\u001b[1;33m\u001b[0m\u001b[0m\n\u001b[1;32m---> 14\u001b[1;33m     \u001b[0mresult\u001b[0m \u001b[1;33m=\u001b[0m \u001b[0mentry_point\u001b[0m\u001b[1;33m.\u001b[0m\u001b[0mload\u001b[0m\u001b[1;33m(\u001b[0m\u001b[1;32mFalse\u001b[0m\u001b[1;33m)\u001b[0m\u001b[1;33m\u001b[0m\u001b[0m\n\u001b[0m\u001b[0;32m     15\u001b[0m     \u001b[1;32mreturn\u001b[0m \u001b[0mresult\u001b[0m\u001b[1;33m\u001b[0m\u001b[0m\n\u001b[0;32m     16\u001b[0m \u001b[1;33m\u001b[0m\u001b[0m\n",
      "\u001b[1;32m~\\Documents\\Anaconda3\\envs\\tensorflowlatest\\lib\\site-packages\\pkg_resources\\__init__.py\u001b[0m in \u001b[0;36mload\u001b[1;34m(self, require, *args, **kwargs)\u001b[0m\n\u001b[0;32m   2322\u001b[0m         \u001b[1;32mif\u001b[0m \u001b[0mrequire\u001b[0m\u001b[1;33m:\u001b[0m\u001b[1;33m\u001b[0m\u001b[0m\n\u001b[0;32m   2323\u001b[0m             \u001b[0mself\u001b[0m\u001b[1;33m.\u001b[0m\u001b[0mrequire\u001b[0m\u001b[1;33m(\u001b[0m\u001b[1;33m*\u001b[0m\u001b[0margs\u001b[0m\u001b[1;33m,\u001b[0m \u001b[1;33m**\u001b[0m\u001b[0mkwargs\u001b[0m\u001b[1;33m)\u001b[0m\u001b[1;33m\u001b[0m\u001b[0m\n\u001b[1;32m-> 2324\u001b[1;33m         \u001b[1;32mreturn\u001b[0m \u001b[0mself\u001b[0m\u001b[1;33m.\u001b[0m\u001b[0mresolve\u001b[0m\u001b[1;33m(\u001b[0m\u001b[1;33m)\u001b[0m\u001b[1;33m\u001b[0m\u001b[0m\n\u001b[0m\u001b[0;32m   2325\u001b[0m \u001b[1;33m\u001b[0m\u001b[0m\n\u001b[0;32m   2326\u001b[0m     \u001b[1;32mdef\u001b[0m \u001b[0mresolve\u001b[0m\u001b[1;33m(\u001b[0m\u001b[0mself\u001b[0m\u001b[1;33m)\u001b[0m\u001b[1;33m:\u001b[0m\u001b[1;33m\u001b[0m\u001b[0m\n",
      "\u001b[1;32m~\\Documents\\Anaconda3\\envs\\tensorflowlatest\\lib\\site-packages\\pkg_resources\\__init__.py\u001b[0m in \u001b[0;36mresolve\u001b[1;34m(self)\u001b[0m\n\u001b[0;32m   2328\u001b[0m         \u001b[0mResolve\u001b[0m \u001b[0mthe\u001b[0m \u001b[0mentry\u001b[0m \u001b[0mpoint\u001b[0m \u001b[1;32mfrom\u001b[0m \u001b[0mits\u001b[0m \u001b[0mmodule\u001b[0m \u001b[1;32mand\u001b[0m \u001b[0mattrs\u001b[0m\u001b[1;33m.\u001b[0m\u001b[1;33m\u001b[0m\u001b[0m\n\u001b[0;32m   2329\u001b[0m         \"\"\"\n\u001b[1;32m-> 2330\u001b[1;33m         \u001b[0mmodule\u001b[0m \u001b[1;33m=\u001b[0m \u001b[0m__import__\u001b[0m\u001b[1;33m(\u001b[0m\u001b[0mself\u001b[0m\u001b[1;33m.\u001b[0m\u001b[0mmodule_name\u001b[0m\u001b[1;33m,\u001b[0m \u001b[0mfromlist\u001b[0m\u001b[1;33m=\u001b[0m\u001b[1;33m[\u001b[0m\u001b[1;34m'__name__'\u001b[0m\u001b[1;33m]\u001b[0m\u001b[1;33m,\u001b[0m \u001b[0mlevel\u001b[0m\u001b[1;33m=\u001b[0m\u001b[1;36m0\u001b[0m\u001b[1;33m)\u001b[0m\u001b[1;33m\u001b[0m\u001b[0m\n\u001b[0m\u001b[0;32m   2331\u001b[0m         \u001b[1;32mtry\u001b[0m\u001b[1;33m:\u001b[0m\u001b[1;33m\u001b[0m\u001b[0m\n\u001b[0;32m   2332\u001b[0m             \u001b[1;32mreturn\u001b[0m \u001b[0mfunctools\u001b[0m\u001b[1;33m.\u001b[0m\u001b[0mreduce\u001b[0m\u001b[1;33m(\u001b[0m\u001b[0mgetattr\u001b[0m\u001b[1;33m,\u001b[0m \u001b[0mself\u001b[0m\u001b[1;33m.\u001b[0m\u001b[0mattrs\u001b[0m\u001b[1;33m,\u001b[0m \u001b[0mmodule\u001b[0m\u001b[1;33m)\u001b[0m\u001b[1;33m\u001b[0m\u001b[0m\n",
      "\u001b[1;32m~\\Documents\\Anaconda3\\envs\\tensorflowlatest\\lib\\site-packages\\gym\\envs\\atari\\__init__.py\u001b[0m in \u001b[0;36m<module>\u001b[1;34m()\u001b[0m\n\u001b[1;32m----> 1\u001b[1;33m \u001b[1;32mfrom\u001b[0m \u001b[0mgym\u001b[0m\u001b[1;33m.\u001b[0m\u001b[0menvs\u001b[0m\u001b[1;33m.\u001b[0m\u001b[0matari\u001b[0m\u001b[1;33m.\u001b[0m\u001b[0matari_env\u001b[0m \u001b[1;32mimport\u001b[0m \u001b[0mAtariEnv\u001b[0m\u001b[1;33m\u001b[0m\u001b[0m\n\u001b[0m",
      "\u001b[1;32m~\\Documents\\Anaconda3\\envs\\tensorflowlatest\\lib\\site-packages\\gym\\envs\\atari\\atari_env.py\u001b[0m in \u001b[0;36m<module>\u001b[1;34m()\u001b[0m\n\u001b[0;32m      9\u001b[0m     \u001b[1;32mimport\u001b[0m \u001b[0matari_py\u001b[0m\u001b[1;33m\u001b[0m\u001b[0m\n\u001b[0;32m     10\u001b[0m \u001b[1;32mexcept\u001b[0m \u001b[0mImportError\u001b[0m \u001b[1;32mas\u001b[0m \u001b[0me\u001b[0m\u001b[1;33m:\u001b[0m\u001b[1;33m\u001b[0m\u001b[0m\n\u001b[1;32m---> 11\u001b[1;33m     \u001b[1;32mraise\u001b[0m \u001b[0merror\u001b[0m\u001b[1;33m.\u001b[0m\u001b[0mDependencyNotInstalled\u001b[0m\u001b[1;33m(\u001b[0m\u001b[1;34m\"{}. (HINT: you can install Atari dependencies by running 'pip install gym[atari]'.)\"\u001b[0m\u001b[1;33m.\u001b[0m\u001b[0mformat\u001b[0m\u001b[1;33m(\u001b[0m\u001b[0me\u001b[0m\u001b[1;33m)\u001b[0m\u001b[1;33m)\u001b[0m\u001b[1;33m\u001b[0m\u001b[0m\n\u001b[0m\u001b[0;32m     12\u001b[0m \u001b[1;33m\u001b[0m\u001b[0m\n\u001b[0;32m     13\u001b[0m \u001b[1;32mdef\u001b[0m \u001b[0mto_ram\u001b[0m\u001b[1;33m(\u001b[0m\u001b[0male\u001b[0m\u001b[1;33m)\u001b[0m\u001b[1;33m:\u001b[0m\u001b[1;33m\u001b[0m\u001b[0m\n",
      "\u001b[1;31mDependencyNotInstalled\u001b[0m: No module named 'atari_py'. (HINT: you can install Atari dependencies by running 'pip install gym[atari]'.)"
     ]
    }
   ],
   "source": [
    "!pip3 install --upgrade gym[all]\n",
    "!pip install pyglet==1.2.4\n",
    "!pip install gym[atari]\n",
    "import gym\n",
    "env = gym.make(\"MsPacman-v0\")\n"
   ]
  },
  {
   "cell_type": "code",
   "execution_count": 13,
   "metadata": {
    "ExecuteTime": {
     "end_time": "2018-04-16T21:28:06.512228Z",
     "start_time": "2018-04-16T21:28:06.484154Z"
    }
   },
   "outputs": [
    {
     "data": {
      "text/plain": [
       "True"
      ]
     },
     "execution_count": 13,
     "metadata": {},
     "output_type": "execute_result"
    }
   ],
   "source": [
    "obs = env.reset()\n",
    "obs\n",
    "\n",
    "\n",
    "env.render()"
   ]
  }
 ],
 "metadata": {
  "kernelspec": {
   "display_name": "Python 3",
   "language": "python",
   "name": "python3"
  },
  "language_info": {
   "codemirror_mode": {
    "name": "ipython",
    "version": 3
   },
   "file_extension": ".py",
   "mimetype": "text/x-python",
   "name": "python",
   "nbconvert_exporter": "python",
   "pygments_lexer": "ipython3",
   "version": "3.6.4"
  }
 },
 "nbformat": 4,
 "nbformat_minor": 2
}
